{
 "cells": [
  {
   "cell_type": "markdown",
   "metadata": {},
   "source": [
    "# Pymaceuticals\n",
    "\n",
    "\n",
    "### *Results and Findings*\n",
    "\n",
    "1. Based on the sample dataset of 250 mice under 4 treatments (Capomulin, Infubinol, Ketapril, and Placebo), the Ketapril, Infubinol, and Placebo treatments had an increase in tumor volume responses across  45 days. Ketapril has approximately a 47% increase, which is the largest increase in tumor response rate of the four treatments. Capomulin has a reduction in tumor volume response of about 21%.\n",
    "\n",
    "2. Ketapril treatment has the greatest increase of metastatic spreading sites, slightly greater than when no treatment was given to the mice (placebo). Capomulin has the lowest metastatic spread of the four treatments. \n",
    "\n",
    "3. When comparing survival rate, 25 mice were placed in each treatment. Capomulin has highest survival rate, with 21 surviving after the 45 day treatment period. Infubinol has the lowest survival rate, with 9 mice surviving the treatment period.\n",
    "\n",
    "Based on the data collected from the study above, ** Capomulin ** seems to be the best treatment of the four. Capomulin was the only treatment that shows a ** reduction ** in total tumor volume, has the **lowest metastatic spread**, and the **highest survival rate** across the 45 day period. \n",
    "\n",
    "\n",
    "Some limitations of the study that may have affected the results were the small sample size of mice per treatment (n=25). The small sample may have affected the data collected and the results of the treatment. Variables, such as potential side effects of each treatment during and after the 45 treatment period, were not accounted for in the data.\n"
   ]
  },
  {
   "cell_type": "code",
   "execution_count": 1,
   "metadata": {
    "collapsed": true
   },
   "outputs": [],
   "source": [
    "#import dependencies\n",
    "\n",
    "import pandas as pd\n",
    "import numpy as np\n",
    "import matplotlib.pyplot as plt\n",
    "from scipy.stats import sem as sem\n",
    "\n",
    "%matplotlib inline"
   ]
  },
  {
   "cell_type": "code",
   "execution_count": 2,
   "metadata": {
    "collapsed": true
   },
   "outputs": [],
   "source": [
    "#read my files\n",
    "\n",
    "link1=(\"Resources/mouse_drug_data_copy.csv\")\n",
    "link2=(\"Resources/clinicaltrial_data_copy.csv\")\n",
    "\n",
    "mouse_drug_csv=pd.read_csv(link1)\n",
    "clinicaltrial_data_csv=pd.read_csv(link2)"
   ]
  },
  {
   "cell_type": "code",
   "execution_count": 3,
   "metadata": {
    "collapsed": true
   },
   "outputs": [],
   "source": [
    "#merge files\n",
    "\n",
    "merged_df=pd.merge(mouse_drug_csv,clinicaltrial_data_csv,on=\"Mouse ID\",how=\"outer\")\n",
    "merged_df.head()\n",
    "\n",
    "# We are only analyzing the effects of Ketapril, Capomulin, Infubinol, and Placebo on the rats\n",
    "merged_selected_df=merged_df.loc[(merged_df[\"Drug\"] == \"Ketapril\") | \n",
    "                   (merged_df[\"Drug\"]==\"Capomulin\") | \n",
    "                   (merged_df[\"Drug\"]==\"Infubinol\") |\n",
    "                   (merged_df[\"Drug\"]==\"Placebo\")]"
   ]
  },
  {
   "cell_type": "markdown",
   "metadata": {},
   "source": [
    "### Tumor Volume Response to Treatment"
   ]
  },
  {
   "cell_type": "code",
   "execution_count": 4,
   "metadata": {},
   "outputs": [
    {
     "data": {
      "text/html": [
       "<div>\n",
       "<style>\n",
       "    .dataframe thead tr:only-child th {\n",
       "        text-align: right;\n",
       "    }\n",
       "\n",
       "    .dataframe thead th {\n",
       "        text-align: left;\n",
       "    }\n",
       "\n",
       "    .dataframe tbody tr th {\n",
       "        vertical-align: top;\n",
       "    }\n",
       "</style>\n",
       "<table border=\"1\" class=\"dataframe\">\n",
       "  <thead>\n",
       "    <tr style=\"text-align: right;\">\n",
       "      <th>Drug</th>\n",
       "      <th>Capomulin</th>\n",
       "      <th>Infubinol</th>\n",
       "      <th>Ketapril</th>\n",
       "      <th>Placebo</th>\n",
       "    </tr>\n",
       "    <tr>\n",
       "      <th>Timepoint</th>\n",
       "      <th></th>\n",
       "      <th></th>\n",
       "      <th></th>\n",
       "      <th></th>\n",
       "    </tr>\n",
       "  </thead>\n",
       "  <tbody>\n",
       "    <tr>\n",
       "      <th>0</th>\n",
       "      <td>45.000000</td>\n",
       "      <td>45.000000</td>\n",
       "      <td>45.000000</td>\n",
       "      <td>45.000000</td>\n",
       "    </tr>\n",
       "    <tr>\n",
       "      <th>5</th>\n",
       "      <td>44.266086</td>\n",
       "      <td>47.062001</td>\n",
       "      <td>47.389175</td>\n",
       "      <td>47.125589</td>\n",
       "    </tr>\n",
       "    <tr>\n",
       "      <th>10</th>\n",
       "      <td>43.084291</td>\n",
       "      <td>49.403909</td>\n",
       "      <td>49.582269</td>\n",
       "      <td>49.423329</td>\n",
       "    </tr>\n",
       "    <tr>\n",
       "      <th>15</th>\n",
       "      <td>42.064317</td>\n",
       "      <td>51.296397</td>\n",
       "      <td>52.399974</td>\n",
       "      <td>51.359742</td>\n",
       "    </tr>\n",
       "    <tr>\n",
       "      <th>20</th>\n",
       "      <td>40.716325</td>\n",
       "      <td>53.197691</td>\n",
       "      <td>54.920935</td>\n",
       "      <td>54.364417</td>\n",
       "    </tr>\n",
       "    <tr>\n",
       "      <th>25</th>\n",
       "      <td>39.939528</td>\n",
       "      <td>55.715252</td>\n",
       "      <td>57.678982</td>\n",
       "      <td>57.482574</td>\n",
       "    </tr>\n",
       "    <tr>\n",
       "      <th>30</th>\n",
       "      <td>38.769339</td>\n",
       "      <td>58.299397</td>\n",
       "      <td>60.994507</td>\n",
       "      <td>59.809063</td>\n",
       "    </tr>\n",
       "    <tr>\n",
       "      <th>35</th>\n",
       "      <td>37.816839</td>\n",
       "      <td>60.742461</td>\n",
       "      <td>63.371686</td>\n",
       "      <td>62.420615</td>\n",
       "    </tr>\n",
       "    <tr>\n",
       "      <th>40</th>\n",
       "      <td>36.958001</td>\n",
       "      <td>63.162824</td>\n",
       "      <td>66.068580</td>\n",
       "      <td>65.052675</td>\n",
       "    </tr>\n",
       "    <tr>\n",
       "      <th>45</th>\n",
       "      <td>36.236114</td>\n",
       "      <td>65.755562</td>\n",
       "      <td>70.662958</td>\n",
       "      <td>68.084082</td>\n",
       "    </tr>\n",
       "  </tbody>\n",
       "</table>\n",
       "</div>"
      ],
      "text/plain": [
       "Drug       Capomulin  Infubinol   Ketapril    Placebo\n",
       "Timepoint                                            \n",
       "0          45.000000  45.000000  45.000000  45.000000\n",
       "5          44.266086  47.062001  47.389175  47.125589\n",
       "10         43.084291  49.403909  49.582269  49.423329\n",
       "15         42.064317  51.296397  52.399974  51.359742\n",
       "20         40.716325  53.197691  54.920935  54.364417\n",
       "25         39.939528  55.715252  57.678982  57.482574\n",
       "30         38.769339  58.299397  60.994507  59.809063\n",
       "35         37.816839  60.742461  63.371686  62.420615\n",
       "40         36.958001  63.162824  66.068580  65.052675\n",
       "45         36.236114  65.755562  70.662958  68.084082"
      ]
     },
     "execution_count": 4,
     "metadata": {},
     "output_type": "execute_result"
    }
   ],
   "source": [
    "vol_change_df=merged_selected_df.groupby([\"Timepoint\",\"Drug\"])[\"Tumor Volume (mm3)\"].mean()\n",
    "vol_change_df.unstack()"
   ]
  },
  {
   "cell_type": "code",
   "execution_count": 5,
   "metadata": {},
   "outputs": [
    {
     "data": {
      "text/html": [
       "<div>\n",
       "<style>\n",
       "    .dataframe thead tr:only-child th {\n",
       "        text-align: right;\n",
       "    }\n",
       "\n",
       "    .dataframe thead th {\n",
       "        text-align: left;\n",
       "    }\n",
       "\n",
       "    .dataframe tbody tr th {\n",
       "        vertical-align: top;\n",
       "    }\n",
       "</style>\n",
       "<table border=\"1\" class=\"dataframe\">\n",
       "  <thead>\n",
       "    <tr style=\"text-align: right;\">\n",
       "      <th></th>\n",
       "      <th>Mouse ID</th>\n",
       "      <th>Drug</th>\n",
       "      <th>Timepoint</th>\n",
       "      <th>Tumor Volume (mm3)</th>\n",
       "      <th>Metastatic Sites</th>\n",
       "    </tr>\n",
       "  </thead>\n",
       "  <tbody>\n",
       "    <tr>\n",
       "      <th>0</th>\n",
       "      <td>f234</td>\n",
       "      <td>Stelasyn</td>\n",
       "      <td>0</td>\n",
       "      <td>45.000000</td>\n",
       "      <td>0</td>\n",
       "    </tr>\n",
       "    <tr>\n",
       "      <th>1</th>\n",
       "      <td>f234</td>\n",
       "      <td>Stelasyn</td>\n",
       "      <td>5</td>\n",
       "      <td>47.313491</td>\n",
       "      <td>0</td>\n",
       "    </tr>\n",
       "    <tr>\n",
       "      <th>2</th>\n",
       "      <td>f234</td>\n",
       "      <td>Stelasyn</td>\n",
       "      <td>10</td>\n",
       "      <td>47.904324</td>\n",
       "      <td>0</td>\n",
       "    </tr>\n",
       "    <tr>\n",
       "      <th>3</th>\n",
       "      <td>f234</td>\n",
       "      <td>Stelasyn</td>\n",
       "      <td>15</td>\n",
       "      <td>48.735197</td>\n",
       "      <td>1</td>\n",
       "    </tr>\n",
       "    <tr>\n",
       "      <th>4</th>\n",
       "      <td>f234</td>\n",
       "      <td>Stelasyn</td>\n",
       "      <td>20</td>\n",
       "      <td>51.112713</td>\n",
       "      <td>2</td>\n",
       "    </tr>\n",
       "  </tbody>\n",
       "</table>\n",
       "</div>"
      ],
      "text/plain": [
       "  Mouse ID      Drug  Timepoint  Tumor Volume (mm3)  Metastatic Sites\n",
       "0     f234  Stelasyn          0           45.000000                 0\n",
       "1     f234  Stelasyn          5           47.313491                 0\n",
       "2     f234  Stelasyn         10           47.904324                 0\n",
       "3     f234  Stelasyn         15           48.735197                 1\n",
       "4     f234  Stelasyn         20           51.112713                 2"
      ]
     },
     "execution_count": 5,
     "metadata": {},
     "output_type": "execute_result"
    }
   ],
   "source": [
    "# add up all the means for each drug, and then calculate the SE for the sample for each time\n",
    "merged_df.head()\n"
   ]
  },
  {
   "cell_type": "code",
   "execution_count": 6,
   "metadata": {
    "collapsed": true
   },
   "outputs": [],
   "source": [
    "drug4=['Ketapril', 'Capomulin','Infubinol','Placebo']\n",
    "\n",
    "def tumorvol_mean(drug_name):\n",
    "    '''Calculates the tumor volume mean for each treatment at each timepoint'''\n",
    "    df_tumor=merged_selected_df.loc[merged_df[\"Drug\"]==drug_name]\n",
    "    df_timepoint_mean=df_tumor.groupby(\"Timepoint\")[\"Tumor Volume (mm3)\"].mean().tolist()\n",
    "    return df_timepoint_mean\n",
    "\n",
    "def tumorvol_se(drug_name):\n",
    "    '''Calculates the standard error for each treatment at each timepoint'''\n",
    "    df_tumor=merged_selected_df.loc[merged_df[\"Drug\"]==drug_name]\n",
    "    df_tumor_se=df_tumor.groupby(\"Timepoint\")[\"Tumor Volume (mm3)\"].sem().tolist()\n",
    "    return df_tumor_se"
   ]
  },
  {
   "cell_type": "code",
   "execution_count": 7,
   "metadata": {},
   "outputs": [
    {
     "data": {
      "text/plain": [
       "<matplotlib.text.Text at 0x1107af940>"
      ]
     },
     "execution_count": 7,
     "metadata": {},
     "output_type": "execute_result"
    },
    {
     "data": {
      "image/png": "[encoded data removed]",
      "text/plain": [
       "<matplotlib.figure.Figure at 0x10d47b2e8>"
      ]
     },
     "metadata": {},
     "output_type": "display_data"
    }
   ],
   "source": [
    "# Ketapril\n",
    "df_timepoint_mean_k=tumorvol_mean(drug4[0])\n",
    "df_timepoint_se_k=tumorvol_se(drug4[0])\n",
    "\n",
    "#Capomulin\n",
    "df_timepoint_mean_c=tumorvol_mean(drug4[1])\n",
    "df_timepoint_se_c=tumorvol_se(drug4[1])\n",
    "\n",
    "# Infubinol\n",
    "df_timepoint_mean_i=tumorvol_mean(drug4[2])\n",
    "df_timepoint_se_i=tumorvol_se(drug4[2])\n",
    "\n",
    "# Placebo\n",
    "df_timepoint_mean_p=tumorvol_mean(drug4[3])\n",
    "df_timepoint_se_p=tumorvol_se(drug4[3])\n",
    "\n",
    "\n",
    "fig, ax = plt.subplots()\n",
    "\n",
    "#calculate error bars and means\n",
    "ax.errorbar(np.arange(0,50,5), df_timepoint_mean_p, yerr=df_timepoint_se_p, fmt=\"o\", color=\"black\",alpha=0.3, label=\"Placebo\",linestyle=\":\")\n",
    "ax.errorbar(np.arange(0,50,5),df_timepoint_mean_k, yerr=df_timepoint_se_k,fmt=\"p\",color=\"red\",alpha=0.3,label=\"Ketapril\",linestyle =\":\")\n",
    "ax.errorbar(np.arange(0,50,5),df_timepoint_mean_c, yerr=df_timepoint_se_c, fmt=\"^\",color=\"indigo\",alpha=0.5,label=\"Capomulin\",linestyle=\":\")\n",
    "ax.errorbar(np.arange(0,50,5),df_timepoint_mean_i, yerr=df_timepoint_se_i, fmt=\"D\",color=\"orange\",alpha=0.3,label=\"Infubinol\",linestyle=\":\")\n",
    "\n",
    "plt.legend(loc=\"upper left\", fontsize=\"small\", fancybox=True)\n",
    "plt.xticks(np.arange(0,50,5))\n",
    "plt.yticks(np.arange(10,85,10))\n",
    "plt.xlabel(\"Time (Days)\")\n",
    "plt.ylabel(\"Tumor Volume (mm3)\")\n",
    "plt.title( \"Tumor Volume Response to Drug Treatment\",size=17)"
   ]
  },
  {
   "cell_type": "markdown",
   "metadata": {},
   "source": [
    "### Changes in metastatic (cancer spreading) sites  over time for each treatment"
   ]
  },
  {
   "cell_type": "code",
   "execution_count": 8,
   "metadata": {},
   "outputs": [
    {
     "data": {
      "text/plain": [
       "Timepoint  Drug     \n",
       "0          Capomulin    0.00\n",
       "           Infubinol    0.00\n",
       "           Ketapril     0.00\n",
       "           Placebo      0.00\n",
       "5          Capomulin    0.16\n",
       "Name: Metastatic Sites, dtype: float64"
      ]
     },
     "execution_count": 8,
     "metadata": {},
     "output_type": "execute_result"
    }
   ],
   "source": [
    "metastic_changes_df=merged_selected_df.groupby([\"Timepoint\",\"Drug\"])[\"Metastatic Sites\"].mean()\n",
    "metastic_changes_df.head()"
   ]
  },
  {
   "cell_type": "code",
   "execution_count": 9,
   "metadata": {},
   "outputs": [
    {
     "data": {
      "text/html": [
       "<div>\n",
       "<style>\n",
       "    .dataframe thead tr:only-child th {\n",
       "        text-align: right;\n",
       "    }\n",
       "\n",
       "    .dataframe thead th {\n",
       "        text-align: left;\n",
       "    }\n",
       "\n",
       "    .dataframe tbody tr th {\n",
       "        vertical-align: top;\n",
       "    }\n",
       "</style>\n",
       "<table border=\"1\" class=\"dataframe\">\n",
       "  <thead>\n",
       "    <tr style=\"text-align: right;\">\n",
       "      <th>Drug</th>\n",
       "      <th>Capomulin</th>\n",
       "      <th>Infubinol</th>\n",
       "      <th>Ketapril</th>\n",
       "      <th>Placebo</th>\n",
       "    </tr>\n",
       "    <tr>\n",
       "      <th>Timepoint</th>\n",
       "      <th></th>\n",
       "      <th></th>\n",
       "      <th></th>\n",
       "      <th></th>\n",
       "    </tr>\n",
       "  </thead>\n",
       "  <tbody>\n",
       "    <tr>\n",
       "      <th>0</th>\n",
       "      <td>0.000000</td>\n",
       "      <td>0.000000</td>\n",
       "      <td>0.000000</td>\n",
       "      <td>0.000000</td>\n",
       "    </tr>\n",
       "    <tr>\n",
       "      <th>5</th>\n",
       "      <td>0.160000</td>\n",
       "      <td>0.280000</td>\n",
       "      <td>0.304348</td>\n",
       "      <td>0.375000</td>\n",
       "    </tr>\n",
       "    <tr>\n",
       "      <th>10</th>\n",
       "      <td>0.320000</td>\n",
       "      <td>0.666667</td>\n",
       "      <td>0.590909</td>\n",
       "      <td>0.833333</td>\n",
       "    </tr>\n",
       "    <tr>\n",
       "      <th>15</th>\n",
       "      <td>0.375000</td>\n",
       "      <td>0.904762</td>\n",
       "      <td>0.842105</td>\n",
       "      <td>1.250000</td>\n",
       "    </tr>\n",
       "    <tr>\n",
       "      <th>20</th>\n",
       "      <td>0.652174</td>\n",
       "      <td>1.050000</td>\n",
       "      <td>1.210526</td>\n",
       "      <td>1.526316</td>\n",
       "    </tr>\n",
       "    <tr>\n",
       "      <th>25</th>\n",
       "      <td>0.818182</td>\n",
       "      <td>1.277778</td>\n",
       "      <td>1.631579</td>\n",
       "      <td>1.941176</td>\n",
       "    </tr>\n",
       "    <tr>\n",
       "      <th>30</th>\n",
       "      <td>1.090909</td>\n",
       "      <td>1.588235</td>\n",
       "      <td>2.055556</td>\n",
       "      <td>2.266667</td>\n",
       "    </tr>\n",
       "    <tr>\n",
       "      <th>35</th>\n",
       "      <td>1.181818</td>\n",
       "      <td>1.666667</td>\n",
       "      <td>2.294118</td>\n",
       "      <td>2.642857</td>\n",
       "    </tr>\n",
       "    <tr>\n",
       "      <th>40</th>\n",
       "      <td>1.380952</td>\n",
       "      <td>2.100000</td>\n",
       "      <td>2.733333</td>\n",
       "      <td>3.166667</td>\n",
       "    </tr>\n",
       "    <tr>\n",
       "      <th>45</th>\n",
       "      <td>1.476190</td>\n",
       "      <td>2.111111</td>\n",
       "      <td>3.363636</td>\n",
       "      <td>3.272727</td>\n",
       "    </tr>\n",
       "  </tbody>\n",
       "</table>\n",
       "</div>"
      ],
      "text/plain": [
       "Drug       Capomulin  Infubinol  Ketapril   Placebo\n",
       "Timepoint                                          \n",
       "0           0.000000   0.000000  0.000000  0.000000\n",
       "5           0.160000   0.280000  0.304348  0.375000\n",
       "10          0.320000   0.666667  0.590909  0.833333\n",
       "15          0.375000   0.904762  0.842105  1.250000\n",
       "20          0.652174   1.050000  1.210526  1.526316\n",
       "25          0.818182   1.277778  1.631579  1.941176\n",
       "30          1.090909   1.588235  2.055556  2.266667\n",
       "35          1.181818   1.666667  2.294118  2.642857\n",
       "40          1.380952   2.100000  2.733333  3.166667\n",
       "45          1.476190   2.111111  3.363636  3.272727"
      ]
     },
     "execution_count": 9,
     "metadata": {},
     "output_type": "execute_result"
    }
   ],
   "source": [
    "metastic_changes_df.unstack()"
   ]
  },
  {
   "cell_type": "code",
   "execution_count": 10,
   "metadata": {
    "collapsed": true
   },
   "outputs": [],
   "source": [
    "drug4=['Ketapril', 'Capomulin','Infubinol','Placebo']\n",
    "\n",
    "def drug_mean(drug_name):\n",
    "    df_metastatic=merged_selected_df.loc[(merged_selected_df[\"Drug\"]==drug_name)]\n",
    "    df_metastatic_mean=df_metastatic.groupby(\"Timepoint\")[\"Metastatic Sites\"].mean().tolist()\n",
    "    return df_metastatic_mean\n",
    "\n",
    "def drug_sem(drug_name):\n",
    "    df_metastatic=merged_selected_df.loc[(merged_selected_df[\"Drug\"]==drug_name)]\n",
    "    df_metastatic_se=df_metastatic.groupby(\"Timepoint\")[\"Metastatic Sites\"].sem().tolist()\n",
    "    return df_metastatic_se\n",
    "\n"
   ]
  },
  {
   "cell_type": "code",
   "execution_count": 11,
   "metadata": {},
   "outputs": [
    {
     "data": {
      "text/plain": [
       "<matplotlib.legend.Legend at 0x1109e5828>"
      ]
     },
     "execution_count": 11,
     "metadata": {},
     "output_type": "execute_result"
    },
    {
     "data": {
      "image/png": "[encoded data removed]",
      "text/plain": [
       "<matplotlib.figure.Figure at 0x110943240>"
      ]
     },
     "metadata": {},
     "output_type": "display_data"
    }
   ],
   "source": [
    "#Ketapril Metastic Spread\n",
    "\n",
    "k_metastatic_mean=drug_mean(drug4[0])\n",
    "k_metastatic_se=drug_sem(drug4[0])\n",
    "\n",
    "#Capomulin Metastic Spread\n",
    "\n",
    "c_metastatic_mean=drug_mean(drug4[1])\n",
    "c_metastatic_se=drug_sem(drug4[1]) \n",
    "\n",
    "#Infubinol Metastic Spread\n",
    "\n",
    "i_metastatic_mean=drug_mean(drug4[2])\n",
    "i_metastatic_se=drug_sem(drug4[2])\n",
    "\n",
    "#Placebo Metastic Spread\n",
    "\n",
    "p_metastatic_mean=drug_mean(drug4[3])\n",
    "p_metastatic_se=drug_sem(drug4[3])\n",
    "\n",
    "fig, ax = plt.subplots()\n",
    "ax.errorbar((np.arange(0,50,5)), k_metastatic_mean,yerr=k_metastatic_se,fmt='p',color=\"r\",alpha=0.3,linestyle=\":\",label=\"Ketapril\")\n",
    "ax.errorbar((np.arange(0,50,5)),c_metastatic_mean,yerr=c_metastatic_se,fmt=\"^\",color=\"indigo\",alpha=0.4,linestyle=':',label=\"Capomulin\")\n",
    "ax.errorbar((np.arange(0,50,5)),i_metastatic_mean,yerr=i_metastatic_se,fmt=\"D\",color=\"orange\",alpha=0.4,linestyle=':',label=\"Infubinol\")\n",
    "ax.errorbar((np.arange(0,50,5)),p_metastatic_mean,yerr=p_metastatic_se,fmt='o',color=\"black\",alpha=0.5,linestyle=':',label=\"Placebo\")\n",
    "\n",
    "plt.xlabel(\"Time (Days)\",size=12)\n",
    "plt.ylabel(\"Metastatic Sites\",size=12)\n",
    "plt.ylim(min(p_metastatic_mean),max(p_metastatic_mean)+1)\n",
    "plt.title(\"Changes in Metastatic Sites By Treatment\",size=15)\n",
    "plt.legend(loc=\"upper left\",fontsize=\"small\",fancybox=True)"
   ]
  },
  {
   "cell_type": "markdown",
   "metadata": {},
   "source": [
    "### Total Count of Mice After Treatment (Survival Rate)"
   ]
  },
  {
   "cell_type": "code",
   "execution_count": 12,
   "metadata": {},
   "outputs": [
    {
     "data": {
      "text/plain": [
       "Timepoint  Drug     \n",
       "0          Capomulin    25\n",
       "           Infubinol    25\n",
       "           Ketapril     25\n",
       "           Placebo      25\n",
       "5          Capomulin    25\n",
       "Name: Drug, dtype: int64"
      ]
     },
     "execution_count": 12,
     "metadata": {},
     "output_type": "execute_result"
    }
   ],
   "source": [
    "#create dataframe that shows the count of mice alive after 45 day treatment\n",
    "survival_rate_df=merged_selected_df.groupby(\"Timepoint\")[\"Drug\"].value_counts()\n",
    "survival_rate_df.head()\n"
   ]
  },
  {
   "cell_type": "code",
   "execution_count": 13,
   "metadata": {},
   "outputs": [
    {
     "data": {
      "text/html": [
       "<div>\n",
       "<style>\n",
       "    .dataframe thead tr:only-child th {\n",
       "        text-align: right;\n",
       "    }\n",
       "\n",
       "    .dataframe thead th {\n",
       "        text-align: left;\n",
       "    }\n",
       "\n",
       "    .dataframe tbody tr th {\n",
       "        vertical-align: top;\n",
       "    }\n",
       "</style>\n",
       "<table border=\"1\" class=\"dataframe\">\n",
       "  <thead>\n",
       "    <tr style=\"text-align: right;\">\n",
       "      <th>Drug</th>\n",
       "      <th>Capomulin</th>\n",
       "      <th>Infubinol</th>\n",
       "      <th>Ketapril</th>\n",
       "      <th>Placebo</th>\n",
       "    </tr>\n",
       "    <tr>\n",
       "      <th>Timepoint</th>\n",
       "      <th></th>\n",
       "      <th></th>\n",
       "      <th></th>\n",
       "      <th></th>\n",
       "    </tr>\n",
       "  </thead>\n",
       "  <tbody>\n",
       "    <tr>\n",
       "      <th>0</th>\n",
       "      <td>25</td>\n",
       "      <td>25</td>\n",
       "      <td>25</td>\n",
       "      <td>25</td>\n",
       "    </tr>\n",
       "    <tr>\n",
       "      <th>5</th>\n",
       "      <td>25</td>\n",
       "      <td>25</td>\n",
       "      <td>23</td>\n",
       "      <td>24</td>\n",
       "    </tr>\n",
       "    <tr>\n",
       "      <th>10</th>\n",
       "      <td>25</td>\n",
       "      <td>21</td>\n",
       "      <td>22</td>\n",
       "      <td>24</td>\n",
       "    </tr>\n",
       "    <tr>\n",
       "      <th>15</th>\n",
       "      <td>24</td>\n",
       "      <td>21</td>\n",
       "      <td>19</td>\n",
       "      <td>20</td>\n",
       "    </tr>\n",
       "    <tr>\n",
       "      <th>20</th>\n",
       "      <td>23</td>\n",
       "      <td>20</td>\n",
       "      <td>19</td>\n",
       "      <td>19</td>\n",
       "    </tr>\n",
       "    <tr>\n",
       "      <th>25</th>\n",
       "      <td>22</td>\n",
       "      <td>18</td>\n",
       "      <td>19</td>\n",
       "      <td>17</td>\n",
       "    </tr>\n",
       "    <tr>\n",
       "      <th>30</th>\n",
       "      <td>22</td>\n",
       "      <td>17</td>\n",
       "      <td>18</td>\n",
       "      <td>15</td>\n",
       "    </tr>\n",
       "    <tr>\n",
       "      <th>35</th>\n",
       "      <td>22</td>\n",
       "      <td>12</td>\n",
       "      <td>17</td>\n",
       "      <td>14</td>\n",
       "    </tr>\n",
       "    <tr>\n",
       "      <th>40</th>\n",
       "      <td>21</td>\n",
       "      <td>10</td>\n",
       "      <td>15</td>\n",
       "      <td>12</td>\n",
       "    </tr>\n",
       "    <tr>\n",
       "      <th>45</th>\n",
       "      <td>21</td>\n",
       "      <td>9</td>\n",
       "      <td>11</td>\n",
       "      <td>11</td>\n",
       "    </tr>\n",
       "  </tbody>\n",
       "</table>\n",
       "</div>"
      ],
      "text/plain": [
       "Drug       Capomulin  Infubinol  Ketapril  Placebo\n",
       "Timepoint                                         \n",
       "0                 25         25        25       25\n",
       "5                 25         25        23       24\n",
       "10                25         21        22       24\n",
       "15                24         21        19       20\n",
       "20                23         20        19       19\n",
       "25                22         18        19       17\n",
       "30                22         17        18       15\n",
       "35                22         12        17       14\n",
       "40                21         10        15       12\n",
       "45                21          9        11       11"
      ]
     },
     "execution_count": 13,
     "metadata": {},
     "output_type": "execute_result"
    }
   ],
   "source": [
    "survival_rate_df.unstack()"
   ]
  },
  {
   "cell_type": "code",
   "execution_count": 14,
   "metadata": {
    "collapsed": true
   },
   "outputs": [],
   "source": [
    "#drug4=['Ketapril', 'Capomulin','Infubinol','Placebo']\n",
    "\n",
    "def survival_plot(drug_name,marks,colors,location=\"lower left\"):\n",
    "    '''Graphs a line plot that shows the survival rate of mice given \"x\" treatment '''\n",
    "    df=merged_selected_df.loc[merged_df[\"Drug\"]==drug_name]\n",
    "    #count the number of mice alive in each time point\n",
    "    drug_survival_count=df[\"Timepoint\"].value_counts()\n",
    "    drug_survival_rate=(drug_survival_count/25)*100\n",
    "    #graph results\n",
    "    plt.xlabel(\"Time (Days)\")\n",
    "    x_axis=np.arange(0,50,5)\n",
    "    plt.xticks(np.arange(0,50,10))   \n",
    "    plt.ylabel(\"Count of Mice Alive (%)\")\n",
    "    plt.title(\"Mice Survival Rate\",size=15)\n",
    "    plt.plot(x_axis,drug_survival_rate,color=colors,marker=marks,label=drug_name,linestyle=\"dashed\",linewidth=0.3,alpha=0.5)\n",
    "    plt.legend(loc=location) \n",
    "    plt.grid(linewidth=0.2,linestyle=\":\",color='b')"
   ]
  },
  {
   "cell_type": "code",
   "execution_count": 15,
   "metadata": {},
   "outputs": [
    {
     "data": {
      "image/png": "[encoded data removed]",
      "text/plain": [
       "<matplotlib.figure.Figure at 0x110842ac8>"
      ]
     },
     "metadata": {},
     "output_type": "display_data"
    }
   ],
   "source": [
    "# Mice survival rate across 45 days under each drugs\n",
    "\n",
    "drug4=['Ketapril', 'Capomulin','Infubinol','Placebo']\n",
    "survival_plot(drug4[0],marks='p',colors=\"red\")\n",
    "survival_plot(drug4[1],marks='^',colors=\"indigo\")\n",
    "survival_plot(drug4[2],marks='D',colors=\"orange\")\n",
    "survival_plot(drug4[3],marks='o',colors=\"black\")\n"
   ]
  },
  {
   "cell_type": "markdown",
   "metadata": {},
   "source": [
    "### Total Tumor Volume Change (%) for Each Drug Across the Full 45 Days.\n",
    "\n"
   ]
  },
  {
   "cell_type": "code",
   "execution_count": 16,
   "metadata": {
    "collapsed": true
   },
   "outputs": [],
   "source": [
    "def tumor_volume_change(drug_name):\n",
    "    '''\n",
    "    Formula to calculate the tumor volume change for each treatment\n",
    "    '''\n",
    "    #separate the data\n",
    "    df=merged_selected_df.loc[merged_selected_df[\"Drug\"]==drug_name]\n",
    "    df_timepoint=df.groupby([\"Drug\",\"Timepoint\"]).mean() #need to average out the information\n",
    "    df_timepoint[\"Tumor Volume Change\"]=df_timepoint[\"Tumor Volume (mm3)\"].pct_change().fillna(value=0)\n",
    "    df_timepoint[\"Tumor Volume Change %\"]=df_timepoint[\"Tumor Volume Change\"]*100\n",
    "    df_timepoint=df_timepoint.reset_index()\n",
    "    volume_change_sum=df_timepoint[\"Tumor Volume Change %\"].sum() #find the total volume sum\n",
    "    return(volume_change_sum)\n"
   ]
  },
  {
   "cell_type": "code",
   "execution_count": 17,
   "metadata": {},
   "outputs": [
    {
     "data": {
      "text/html": [
       "<div>\n",
       "<style>\n",
       "    .dataframe thead tr:only-child th {\n",
       "        text-align: right;\n",
       "    }\n",
       "\n",
       "    .dataframe thead th {\n",
       "        text-align: left;\n",
       "    }\n",
       "\n",
       "    .dataframe tbody tr th {\n",
       "        vertical-align: top;\n",
       "    }\n",
       "</style>\n",
       "<table border=\"1\" class=\"dataframe\">\n",
       "  <thead>\n",
       "    <tr style=\"text-align: right;\">\n",
       "      <th></th>\n",
       "      <th>Drug</th>\n",
       "      <th>Volume Change %</th>\n",
       "    </tr>\n",
       "  </thead>\n",
       "  <tbody>\n",
       "    <tr>\n",
       "      <th>0</th>\n",
       "      <td>Ketapril</td>\n",
       "      <td>46.308083</td>\n",
       "    </tr>\n",
       "    <tr>\n",
       "      <th>1</th>\n",
       "      <td>Capomulin</td>\n",
       "      <td>-21.391539</td>\n",
       "    </tr>\n",
       "    <tr>\n",
       "      <th>2</th>\n",
       "      <td>Infubinol</td>\n",
       "      <td>38.746192</td>\n",
       "    </tr>\n",
       "    <tr>\n",
       "      <th>3</th>\n",
       "      <td>Placebo</td>\n",
       "      <td>42.393592</td>\n",
       "    </tr>\n",
       "  </tbody>\n",
       "</table>\n",
       "</div>"
      ],
      "text/plain": [
       "        Drug  Volume Change %\n",
       "0   Ketapril        46.308083\n",
       "1  Capomulin       -21.391539\n",
       "2  Infubinol        38.746192\n",
       "3    Placebo        42.393592"
      ]
     },
     "execution_count": 17,
     "metadata": {},
     "output_type": "execute_result"
    }
   ],
   "source": [
    "#summed volume % changes for each drug \n",
    "\n",
    "ketapril_total_change=tumor_volume_change(drug4[0])\n",
    "capomulin_total_change=tumor_volume_change(drug4[1])\n",
    "infubinol_total_change=tumor_volume_change(drug4[2])\n",
    "placebo_total_change=tumor_volume_change(drug4[3])\n",
    "\n",
    "#create dataframe to visualize the information above\n",
    "total_summed_df= pd.DataFrame({\"Drug\":[\"Ketapril\",\"Capomulin\",\"Infubinol\",\"Placebo\"],\n",
    "              \"Volume Change %\":[ketapril_total_change,capomulin_total_change,\n",
    "                                 infubinol_total_change,placebo_total_change]})\n",
    "total_summed_df"
   ]
  },
  {
   "cell_type": "code",
   "execution_count": 18,
   "metadata": {},
   "outputs": [
    {
     "data": {
      "image/png": "[encoded data removed]",
      "text/plain": [
       "<matplotlib.figure.Figure at 0x110bb8b00>"
      ]
     },
     "metadata": {},
     "output_type": "display_data"
    }
   ],
   "source": [
    "#create the bar graph\n",
    "\n",
    "xvalues=['Ketapril', 'Capomulin','Infubinol','Placebo']\n",
    "y_axis=[ketapril_total_change,capomulin_total_change,infubinol_total_change,placebo_total_change]\n",
    "\n",
    "x_axis=np.arange(0,len(xvalues),1)\n",
    "\n",
    "width=0.45\n",
    "fix, ax = plt.subplots()\n",
    "rects1=ax.bar(x_axis,y_axis,width, color=\"red\",alpha=0.4)\n",
    "rects1[1].set_color('green')\n",
    "ax.set_xticks(x_axis + width / 20 )\n",
    "ax.set_xticklabels((xvalues))\n",
    "ax.set_title(\"Total Tumor Volume Change For Each Treatment\",size=14)\n",
    "ax.set_ylabel(\"Tumor Volume Change (%)\")\n",
    "ax.set_xlabel(\"Drug\")\n",
    "plt.axhline(0,0,50,color='black',linestyle=\"dashed\",linewidth=1)\n",
    "plt.ylim(ymin=min(y_axis)-10 , ymax=max(y_axis)+10)\n",
    "plt.grid(linewidth=0.4,linestyle=\"dashed\")\n",
    "\n",
    "\n",
    "\n",
    "def autolabel(rects, ax):\n",
    "    # Get y-axis height to calculate label position from.\n",
    "    (y_bottom, y_top) = ax.get_ylim()\n",
    "    y_height = y_top - y_bottom\n",
    "\n",
    "    for rect in rects:\n",
    "        height = rect.get_height()\n",
    "\n",
    "        # Fraction of axis height taken up by this rectangle\n",
    "        p_height = (height / y_height)\n",
    "\n",
    "        # If we can fit the label above the column, do that;\n",
    "        # otherwise, put it inside the column.\n",
    "        if p_height > 0.95: # arbitrary; 95% looked good to me.\n",
    "            label_position = height - (y_height * 0.05)\n",
    "        else:\n",
    "            label_position = height + (y_height * 0.01)\n",
    "\n",
    "        ax.text(rect.get_x() + rect.get_width()/2., label_position,\n",
    "                '%d%%' % int(height),\n",
    "                ha='center', va='bottom')\n",
    "         \n",
    "autolabel(rects1, ax)\n"
   ]
  },
  {
   "cell_type": "markdown",
   "metadata": {},
   "source": [
    "Based on the bar chart, capomulin (in green) shows a reduction in total tumor volume while the other treatments has shown an increase of total tumor volume."
   ]
  }
 ],
 "metadata": {
  "kernelspec": {
   "display_name": "Python[PythonData]",
   "language": "python",
   "name": "pythondata"
  },
  "language_info": {
   "codemirror_mode": {
    "name": "ipython",
    "version": 3
   },
   "file_extension": ".py",
   "mimetype": "text/x-python",
   "name": "python",
   "nbconvert_exporter": "python",
   "pygments_lexer": "ipython3",
   "version": "3.6.2"
  }
 },
 "nbformat": 4,
 "nbformat_minor": 2
}
